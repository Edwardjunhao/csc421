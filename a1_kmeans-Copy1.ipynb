{
 "cells": [
  {
   "cell_type": "code",
   "execution_count": 5,
   "id": "2a2dc757-ec52-4aa0-a24b-7375b14524ca",
   "metadata": {},
   "outputs": [],
   "source": [
    "import torch\n",
    "import torchvision\n",
    "from torch.utils.data import DataLoader\n",
    "from torchvision import datasets, transforms\n",
    "from torchvision.transforms import ToTensor, Compose\n",
    "import matplotlib.pyplot as plt\n",
    "import numpy as np\n",
    "\n",
    "import os\n",
    "import pickle\n",
    "\n",
    "import h5py\n",
    "import scipy\n",
    "from PIL import Image\n",
    "from scipy import ndimage"
   ]
  },
  {
   "cell_type": "code",
   "execution_count": 6,
   "id": "eea89784-5df4-46f4-8ec1-1d8d37316f07",
   "metadata": {},
   "outputs": [
    {
     "name": "stdout",
     "output_type": "stream",
     "text": [
      "Files already downloaded and verified\n",
      "Files already downloaded and verified\n"
     ]
    }
   ],
   "source": [
    "train_dataset = datasets.CIFAR10(root='data/', download=True, train=True, transform=ToTensor())\n",
    "test_dataset = datasets.CIFAR10(root='data/', download=True, train=False, transform=ToTensor())"
   ]
  },
  {
   "cell_type": "code",
   "execution_count": 7,
   "id": "957bcb10-2bbf-4cfc-b04f-1bc8e3796672",
   "metadata": {},
   "outputs": [],
   "source": [
    "def load_CIFAR_batch(filename):\n",
    "    with open(filename, 'rb') as f:\n",
    "        datadict = pickle.load(f,encoding='latin1')\n",
    "        X = datadict['data']\n",
    "        Y = datadict['labels']\n",
    "        X = X.reshape(10000, 3, 32, 32).transpose(0,2,3,1).astype(\"float\")\n",
    "        Y = np.array(Y)\n",
    "    return X, Y\n",
    "def load_CIFAR10():\n",
    "    xs = []\n",
    "    ys = []\n",
    "    for b in range(1,6):\n",
    "        f = os.path.join('data', 'cifar-10-batches-py', 'data_batch_%d' % (b, ))\n",
    "        X, Y = load_CIFAR_batch(f)\n",
    "        xs.append(X)\n",
    "        ys.append(Y)    \n",
    "    Xtr = np.concatenate(xs)\n",
    "    Ytr = np.concatenate(ys)\n",
    "    del X, Y\n",
    "    Xte, Yte = load_CIFAR_batch(os.path.join('data', 'cifar-10-batches-py', 'test_batch'))\n",
    "    return Xtr, Ytr, Xte, Yte"
   ]
  },
  {
   "cell_type": "code",
   "execution_count": 12,
   "id": "c7f075ea-823c-4acb-8717-008592980853",
   "metadata": {},
   "outputs": [],
   "source": [
    "X_train, y_train, X_test, y_test = load_CIFAR10()"
   ]
  },
  {
   "cell_type": "code",
   "execution_count": 13,
   "id": "e8146b00-aa66-45f9-83c1-b86023ead135",
   "metadata": {},
   "outputs": [
    {
     "name": "stdout",
     "output_type": "stream",
     "text": [
      "(40000, 32, 32, 3)\n",
      "(40000,)\n",
      "(10000, 32, 32, 3)\n",
      "(10000,)\n"
     ]
    }
   ],
   "source": [
    "X_train, y_train, X_test, y_test = split(50000,X_train,y_train,0.2)\n",
    "print(X_train.shape)\n",
    "print(y_train.shape)\n",
    "\n",
    "print(X_test.shape)\n",
    "print(y_test.shape)"
   ]
  },
  {
   "cell_type": "code",
   "execution_count": 17,
   "id": "b64f2f05",
   "metadata": {},
   "outputs": [
    {
     "name": "stdout",
     "output_type": "stream",
     "text": [
      "0.1765\n",
      "0.1828\n",
      "0.196\n",
      "0.2189\n",
      "0.2303\n",
      "[0.1765, 0.1828, 0.196, 0.2189, 0.2303]\n"
     ]
    }
   ],
   "source": [
    "    K = [2*k+1 for k in range(1,6)]\n",
    "    result = []\n",
    "    for k in K:\n",
    "        clf_kmeans = KMeans(K=k, max_iters=150)\n",
    "        clf_kmeans.fit(X_train,y_train)\n",
    "        y_pred = clf_kmeans.predict(X_train,X_test)\n",
    "        accu = accuracy(y_test,y_pred)\n",
    "        print(accu)\n",
    "        result.append(accu)\n",
    "    print(result)"
   ]
  },
  {
   "cell_type": "code",
   "execution_count": 18,
   "id": "ae17ee94",
   "metadata": {},
   "outputs": [
    {
     "data": {
      "image/png": "[encoded data removed]",
      "text/plain": [
       "<Figure size 432x288 with 1 Axes>"
      ]
     },
     "metadata": {
      "needs_background": "light"
     },
     "output_type": "display_data"
    }
   ],
   "source": [
    "fig, ax = plt.subplots()\n",
    "ax.set_xlabel(\"k\")\n",
    "ax.set_ylabel(\"accuracy\")\n",
    "ax.set_title(\"accuracy vs k\")\n",
    "ax.plot(K, result, marker=\"o\", drawstyle=\"steps-post\")\n",
    "\n",
    "plt.show()"
   ]
  },
  {
   "cell_type": "code",
   "execution_count": 20,
   "id": "e4383d21",
   "metadata": {},
   "outputs": [],
   "source": [
    "X_train, y_train, X_test, y_test = load_CIFAR10()"
   ]
  },
  {
   "cell_type": "code",
   "execution_count": 21,
   "id": "210e0f41",
   "metadata": {},
   "outputs": [
    {
     "name": "stdout",
     "output_type": "stream",
     "text": [
      "(50000, 32, 32, 3)\n",
      "(50000,)\n",
      "(10000, 32, 32, 3)\n",
      "(10000,)\n"
     ]
    }
   ],
   "source": [
    "X_train = X_train[0:50000]\n",
    "X_test = X_test[0:10000]\n",
    "y_train = y_train[0:50000]\n",
    "y_test = y_test[0:10000]\n",
    "print(X_train.shape)\n",
    "print(y_train.shape)\n",
    "print(X_test.shape)\n",
    "print(y_test.shape)"
   ]
  },
  {
   "cell_type": "code",
   "execution_count": 22,
   "id": "55017c76",
   "metadata": {},
   "outputs": [
    {
     "name": "stdout",
     "output_type": "stream",
     "text": [
      "0.1753\n",
      "0.1978\n",
      "0.1987\n",
      "0.2174\n",
      "0.2311\n",
      "[0.1753, 0.1978, 0.1987, 0.2174, 0.2311]\n"
     ]
    }
   ],
   "source": [
    "    K = [2*k+1 for k in range(1,6)]\n",
    "    result = []\n",
    "    for k in K:\n",
    "        clf_kmeans = KMeans(K=k, max_iters=150)\n",
    "        clf_kmeans.fit(X_train,y_train)\n",
    "        y_pred = clf_kmeans.predict(X_train,X_test)\n",
    "        accu = accuracy(y_test,y_pred)\n",
    "        print(accu)\n",
    "        result.append(accu)\n",
    "    print(result)"
   ]
  },
  {
   "cell_type": "code",
   "execution_count": 23,
   "id": "725fd88f",
   "metadata": {},
   "outputs": [
    {
     "data": {
      "image/png": "[encoded data removed]",
      "text/plain": [
       "<Figure size 432x288 with 1 Axes>"
      ]
     },
     "metadata": {
      "needs_background": "light"
     },
     "output_type": "display_data"
    }
   ],
   "source": [
    "fig, ax = plt.subplots()\n",
    "ax.set_xlabel(\"k\")\n",
    "ax.set_ylabel(\"accuracy\")\n",
    "ax.set_title(\"accuracy vs k\")\n",
    "ax.plot(K, result, marker=\"o\", drawstyle=\"steps-post\")\n",
    "\n",
    "plt.show()"
   ]
  },
  {
   "cell_type": "code",
   "execution_count": 19,
   "id": "d057a0aa",
   "metadata": {},
   "outputs": [],
   "source": [
    "from collections import Counter\n",
    "\n",
    "def split(n_samples,X,y,k):\n",
    "    random_sample_idxs = np.random.choice(n_samples, int(n_samples*k), replace=False)\n",
    "    X_test = np.array([X[i] for i in random_sample_idxs])\n",
    "    y_test = np.array([y[i] for i in random_sample_idxs])\n",
    "    X_train = np.array([X[i] for i in range(n_samples) if i not in random_sample_idxs])\n",
    "    y_train = np.array([y[i] for i in range(n_samples) if i not in random_sample_idxs])\n",
    "    return X_train,y_train,X_test,y_test\n",
    "\n",
    "def euclidean_distance(x1, x2):\n",
    "    return np.sqrt(np.sum((x1 - x2) ** 2))\n",
    "\n",
    "def accuracy(y_true, y_pred):\n",
    "    y_true = np.ravel(y_true.T)\n",
    "    accuracy = np.sum(y_true == y_pred) / len(y_true)\n",
    "    return accuracy\n",
    "\n",
    "class KMeans:\n",
    "    def __init__(self, K=5, max_iters=100):\n",
    "        self.K = K\n",
    "        self.max_iters = max_iters\n",
    "        self.clusters = [[] for _ in range(self.K)]\n",
    "        self.centroids = []\n",
    "    \n",
    "    def fit(self, X, y):\n",
    "        self.X_train = X\n",
    "        self.y_train = y\n",
    "        \n",
    "    def predict(self,X, X_test):\n",
    "        self.X = X\n",
    "        self.n_samples = X.shape[0]\n",
    "\n",
    "        random_sample_idxs = np.random.choice(self.n_samples, self.K, replace=False)\n",
    "        self.centroids = [self.X[idx] for idx in random_sample_idxs]\n",
    "\n",
    "        for _ in range(self.max_iters):\n",
    "\n",
    "            self.clusters = self._create_clusters(self.centroids)\n",
    "\n",
    "            centroids_old = self.centroids\n",
    "            self.centroids = self._get_centroids(self.clusters)\n",
    "\n",
    "            if self._is_converged(centroids_old, self.centroids):\n",
    "                break\n",
    "\n",
    "        return self._get_cluster_labels(self.clusters,X_test)\n",
    "\n",
    "    def _get_cluster_labels(self, clusters, X_test):\n",
    " \n",
    "        labels = np.empty(X_test.shape[0])\n",
    "        ans = []\n",
    "        \n",
    "        for cluster in clusters:\n",
    "            cluster_labels = [ y_train[i] for i in cluster]\n",
    "            most_common = Counter(cluster_labels).most_common(1)[0][0]\n",
    "            ans.append(most_common)\n",
    "            \n",
    "        for idx, sample in enumerate(X_test):\n",
    "            labels[idx] = ans[self._closest_centroid(sample,self.centroids)]\n",
    "        return labels\n",
    "\n",
    "    def _create_clusters(self, centroids):\n",
    "\n",
    "        clusters = [[] for _ in range(self.K)]\n",
    "        for idx, sample in enumerate(self.X):\n",
    "            centroid_idx = self._closest_centroid(sample, centroids)\n",
    "            clusters[centroid_idx].append(idx)\n",
    "        return clusters\n",
    "\n",
    "    def _closest_centroid(self, sample, centroids):\n",
    "\n",
    "        distances = [euclidean_distance(sample, point) for point in centroids]\n",
    "        closest_index = np.argmin(distances)\n",
    "        return closest_index\n",
    "\n",
    "    def _get_centroids(self, clusters):\n",
    "\n",
    "        centroids = np.zeros((self.K, 32, 32 ,3))\n",
    "        for cluster_idx, cluster in enumerate(clusters):\n",
    "            cluster_mean = np.mean(self.X[cluster], axis=0)\n",
    "            centroids[cluster_idx] = cluster_mean\n",
    "        return centroids\n",
    "\n",
    "    def _is_converged(self, centroids_old, centroids):\n",
    "\n",
    "        distances = [\n",
    "            euclidean_distance(centroids_old[i], centroids[i]) for i in range(self.K)\n",
    "        ]\n",
    "        return sum(distances) == 0"
   ]
  },
  {
   "cell_type": "code",
   "execution_count": 50,
   "id": "39444e38",
   "metadata": {},
   "outputs": [
    {
     "name": "stdout",
     "output_type": "stream",
     "text": [
      "0.1753\n",
      "0.1973\n",
      "0.1989\n",
      "0.2168\n",
      "0.2376\n",
      "[0.1753, 0.1973, 0.1989, 0.2168, 0.2376]\n"
     ]
    }
   ],
   "source": [
    "    K = [2*k+1 for k in range(1,6)]\n",
    "    result = []\n",
    "    for k in K:\n",
    "        clf_kmeans = KMeans(K=k, max_iters=150)\n",
    "        clf_kmeans.fit(X_train,y_train)\n",
    "        y_pred = clf_kmeans.predict(X_train,X_test)\n",
    "        accu = accuracy(y_test,y_pred)\n",
    "        print(accu)\n",
    "        result.append(accu)\n",
    "    print(result)"
   ]
  },
  {
   "cell_type": "code",
   "execution_count": 51,
   "id": "7513ca67",
   "metadata": {},
   "outputs": [
    {
     "data": {
      "image/png": "[encoded data removed]",
      "text/plain": [
       "<Figure size 432x288 with 1 Axes>"
      ]
     },
     "metadata": {
      "needs_background": "light"
     },
     "output_type": "display_data"
    }
   ],
   "source": [
    "fig, ax = plt.subplots()\n",
    "ax.set_xlabel(\"k\")\n",
    "ax.set_ylabel(\"accuracy\")\n",
    "ax.set_title(\"accuracy vs k\")\n",
    "ax.plot(K, result, marker=\"o\", drawstyle=\"steps-post\")\n",
    "\n",
    "plt.show()"
   ]
  },
  {
   "cell_type": "code",
   "execution_count": null,
   "id": "82eaab1a",
   "metadata": {},
   "outputs": [],
   "source": []
  }
 ],
 "metadata": {
  "kernelspec": {
   "display_name": "Python 3 (ipykernel)",
   "language": "python",
   "name": "python3"
  },
  "language_info": {
   "codemirror_mode": {
    "name": "ipython",
    "version": 3
   },
   "file_extension": ".py",
   "mimetype": "text/x-python",
   "name": "python",
   "nbconvert_exporter": "python",
   "pygments_lexer": "ipython3",
   "version": "3.9.7"
  }
 },
 "nbformat": 4,
 "nbformat_minor": 5
}
