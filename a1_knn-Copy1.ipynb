{
 "cells": [
  {
   "cell_type": "code",
   "execution_count": 1,
   "id": "ae827e4e-7fa5-4bdd-ae38-83f3ea9df60a",
   "metadata": {},
   "outputs": [],
   "source": [
    "import torch\n",
    "import torchvision\n",
    "from torch.utils.data import DataLoader\n",
    "from torchvision import datasets, transforms\n",
    "from torchvision.transforms import ToTensor, Compose\n",
    "import matplotlib.pyplot as plt\n",
    "import numpy as np\n",
    "\n",
    "import os\n",
    "import pickle\n",
    "\n",
    "import h5py\n",
    "import scipy\n",
    "from PIL import Image\n",
    "from scipy import ndimage"
   ]
  },
  {
   "cell_type": "code",
   "execution_count": 2,
   "id": "6b0078a5-20b0-4e60-90cc-3617faa01f8c",
   "metadata": {},
   "outputs": [
    {
     "name": "stdout",
     "output_type": "stream",
     "text": [
      "Files already downloaded and verified\n",
      "Files already downloaded and verified\n"
     ]
    }
   ],
   "source": [
    "train_dataset = datasets.CIFAR10(root='data/', download=True, train=True, transform=ToTensor())\n",
    "test_dataset = datasets.CIFAR10(root='data/', download=True, train=False, transform=ToTensor())"
   ]
  },
  {
   "cell_type": "code",
   "execution_count": 3,
   "id": "50f75a6b-1784-42bb-94ba-224661fff894",
   "metadata": {},
   "outputs": [],
   "source": [
    "def load_CIFAR_batch(filename):\n",
    "    with open(filename, 'rb') as f:\n",
    "        datadict = pickle.load(f,encoding='latin1')\n",
    "        X = datadict['data']\n",
    "        Y = datadict['labels']\n",
    "        X = X.reshape(10000, 3, 32, 32).transpose(0,2,3,1).astype(\"float\")\n",
    "        Y = np.array(Y)\n",
    "    return X, Y\n",
    "def load_CIFAR10():\n",
    "    xs = []\n",
    "    ys = []\n",
    "    for b in range(1,6):\n",
    "        f = os.path.join('data', 'cifar-10-batches-py', 'data_batch_%d' % (b, ))\n",
    "        X, Y = load_CIFAR_batch(f)\n",
    "        xs.append(X)\n",
    "        ys.append(Y)    \n",
    "    Xtr = np.concatenate(xs)\n",
    "    Ytr = np.concatenate(ys)\n",
    "    del X, Y\n",
    "    Xte, Yte = load_CIFAR_batch(os.path.join('data', 'cifar-10-batches-py', 'test_batch'))\n",
    "    return Xtr, Ytr, Xte, Yte"
   ]
  },
  {
   "cell_type": "code",
   "execution_count": 10,
   "id": "6dbd6964",
   "metadata": {},
   "outputs": [],
   "source": [
    "X_train, y_train, X_test, y_test = load_CIFAR10()"
   ]
  },
  {
   "cell_type": "code",
   "execution_count": 11,
   "id": "bc3513b8",
   "metadata": {},
   "outputs": [],
   "source": [
    "\n",
    "X_train, y_train, X_test, y_test = split(50000,X_train,y_train,0.2)\n"
   ]
  },
  {
   "cell_type": "code",
   "execution_count": 12,
   "id": "51a7bafe",
   "metadata": {},
   "outputs": [
    {
     "name": "stdout",
     "output_type": "stream",
     "text": [
      "(40000, 32, 32, 3)\n",
      "(40000,)\n",
      "(10000, 32, 32, 3)\n",
      "(10000,)\n"
     ]
    }
   ],
   "source": [
    "print(X_train.shape)\n",
    "print(y_train.shape)\n",
    "\n",
    "print(X_test.shape)\n",
    "print(y_test.shape)"
   ]
  },
  {
   "cell_type": "code",
   "execution_count": 13,
   "id": "eb445a6d",
   "metadata": {},
   "outputs": [
    {
     "name": "stdout",
     "output_type": "stream",
     "text": [
      "(3072, 40000)\n",
      "(1, 40000)\n",
      "(3072, 10000)\n",
      "(1, 10000)\n",
      "(1, 10000)\n"
     ]
    }
   ],
   "source": [
    "X_train = np.reshape(X_train, (X_train.shape[0], -1)).T\n",
    "X_test = np.reshape(X_test, (X_test.shape[0], -1)).T\n",
    "y_set_train = y_train.reshape(1,-1)\n",
    "y_set_test = y_test.reshape(1,-1)\n",
    "X_set_train = X_train\n",
    "X_set_test = X_test\n",
    "print(X_set_train.shape)\n",
    "print(y_set_train.shape)\n",
    "\n",
    "print(X_set_test.shape)\n",
    "print(y_set_test.shape)\n",
    "print(y_set_test.shape)"
   ]
  },
  {
   "cell_type": "code",
   "execution_count": 14,
   "id": "49551f2d",
   "metadata": {},
   "outputs": [
    {
     "name": "stdout",
     "output_type": "stream",
     "text": [
      "[0.3435, 0.3411, 0.3454, 0.3394, 0.3391]\n"
     ]
    }
   ],
   "source": [
    "dists = distance(X_set_test,X_set_train)\n",
    "\n",
    "result = []\n",
    "\n",
    "a = [2*i+1 for i in range(1,6)]\n",
    "for K in a:\n",
    "    clf = KNN(k=K)\n",
    "    clf.fit(X_set_train, y_set_train)\n",
    "        \n",
    "    predictions = clf.predict(X_set_test,dists)\n",
    "    accu = accuracy(y_set_test, predictions)\n",
    "    result.append(accu)\n",
    "    \n",
    "print(result)"
   ]
  },
  {
   "cell_type": "code",
   "execution_count": 15,
   "id": "14254ecc",
   "metadata": {},
   "outputs": [
    {
     "data": {
      "image/png": "[encoded data removed]",
      "text/plain": [
       "<Figure size 432x288 with 1 Axes>"
      ]
     },
     "metadata": {
      "needs_background": "light"
     },
     "output_type": "display_data"
    }
   ],
   "source": [
    "fig, ax = plt.subplots()\n",
    "ax.set_xlabel(\"k\")\n",
    "ax.set_ylabel(\"accuracy\")\n",
    "ax.set_title(\"accuracy vs k\")\n",
    "ax.plot(a, result, marker=\"o\", drawstyle=\"steps-post\")\n",
    "\n",
    "plt.show()"
   ]
  },
  {
   "cell_type": "code",
   "execution_count": 4,
   "id": "5d570883",
   "metadata": {},
   "outputs": [],
   "source": [
    "X_train, y_train, X_test, y_test = load_CIFAR10()"
   ]
  },
  {
   "cell_type": "code",
   "execution_count": 5,
   "id": "8da1a906",
   "metadata": {},
   "outputs": [
    {
     "name": "stdout",
     "output_type": "stream",
     "text": [
      "(50000, 32, 32, 3)\n",
      "(50000,)\n",
      "(10000, 32, 32, 3)\n",
      "(10000,)\n"
     ]
    }
   ],
   "source": [
    "print(X_train.shape)\n",
    "print(y_train.shape)\n",
    "\n",
    "print(X_test.shape)\n",
    "print(y_test.shape)"
   ]
  },
  {
   "cell_type": "code",
   "execution_count": 6,
   "id": "15f237aa",
   "metadata": {},
   "outputs": [
    {
     "name": "stdout",
     "output_type": "stream",
     "text": [
      "(3072, 50000)\n",
      "(1, 50000)\n",
      "(3072, 10000)\n",
      "(1, 10000)\n",
      "(1, 10000)\n"
     ]
    }
   ],
   "source": [
    "X_train = np.reshape(X_train, (X_train.shape[0], -1)).T\n",
    "X_test = np.reshape(X_test, (X_test.shape[0], -1)).T\n",
    "y_set_train = y_train.reshape(1,-1)\n",
    "y_set_test = y_test.reshape(1,-1)\n",
    "X_set_train = X_train\n",
    "X_set_test = X_test\n",
    "print(X_set_train.shape)\n",
    "print(y_set_train.shape)\n",
    "\n",
    "print(X_set_test.shape)\n",
    "print(y_set_test.shape)\n"
   ]
  },
  {
   "cell_type": "code",
   "execution_count": 8,
   "id": "e027b88f",
   "metadata": {},
   "outputs": [
    {
     "name": "stdout",
     "output_type": "stream",
     "text": [
      "[0.3561, 0.3556, 0.3508, 0.3536, 0.3497]\n"
     ]
    }
   ],
   "source": [
    "dists = distance(X_set_test,X_set_train)\n",
    "\n",
    "result = []\n",
    "\n",
    "a = [2*i+1 for i in range(1,6)]\n",
    "for K in a:\n",
    "    clf = KNN(k=K)\n",
    "    clf.fit(X_set_train, y_set_train)\n",
    "        \n",
    "    predictions = clf.predict(X_set_test,dists)\n",
    "    accu = accuracy(y_set_test, predictions)\n",
    "    result.append(accu)\n",
    "    \n",
    "print(result)\n"
   ]
  },
  {
   "cell_type": "code",
   "execution_count": 9,
   "id": "9285123d",
   "metadata": {},
   "outputs": [
    {
     "data": {
      "image/png": "[encoded data removed]",
      "text/plain": [
       "<Figure size 432x288 with 1 Axes>"
      ]
     },
     "metadata": {
      "needs_background": "light"
     },
     "output_type": "display_data"
    }
   ],
   "source": [
    "fig, ax = plt.subplots()\n",
    "ax.set_xlabel(\"k\")\n",
    "ax.set_ylabel(\"accuracy\")\n",
    "ax.set_title(\"accuracy vs k\")\n",
    "ax.plot(a, result, marker=\"o\", drawstyle=\"steps-post\")\n",
    "\n",
    "plt.show()"
   ]
  },
  {
   "cell_type": "code",
   "execution_count": 7,
   "id": "4002d953-fbe0-4752-b140-7a7010340610",
   "metadata": {},
   "outputs": [],
   "source": [
    "from collections import Counter\n",
    "\n",
    "import numpy as np\n",
    "\n",
    "\n",
    "def distance(X_test, X_train):\n",
    "\n",
    "    num_test = X_test.shape[1]\n",
    "    num_train = X_train.shape[1]\n",
    "    distances = np.zeros((num_test, num_train))\n",
    "    n1 = np.dot(X_test.T,X_train)\n",
    "    n2 = np.multiply(n1, -2)    \n",
    "    n3 = np.sum(np.square(X_test.T), axis=1, keepdims=True)    \n",
    "    n4 = np.sum(np.square(X_train), axis=0,keepdims=True)    \n",
    "    distances = np.sqrt(n2 + n3 + n4)\n",
    "\n",
    "    return distances\n",
    "\n",
    "\n",
    "def split(n_samples,X,y,k):\n",
    "    random_sample_idxs = np.random.choice(n_samples, int(n_samples*k), replace=False)\n",
    "    X_test = np.array([X[i] for i in random_sample_idxs])\n",
    "    y_test = np.array([y[i] for i in random_sample_idxs])\n",
    "    X_train = np.array([X[i] for i in range(n_samples) if i not in random_sample_idxs])\n",
    "    y_train = np.array([y[i] for i in range(n_samples) if i not in random_sample_idxs])\n",
    "    return X_train,y_train,X_test,y_test\n",
    "\n",
    "class KNN:\n",
    "    def __init__(self, k=3):\n",
    "        self.k = k\n",
    "\n",
    "    def fit(self, X, y):\n",
    "        self.X_train = X\n",
    "        self.y_train = y\n",
    "\n",
    "\n",
    "    def predict(self, X, dists):\n",
    "        \n",
    "        y_pred = [self._predict(x, dists) for x in range(X.shape[1])]\n",
    "        return np.array(y_pred)\n",
    "\n",
    "    def _predict(self, x, dists):\n",
    "\n",
    "        k_idx = np.argsort(dists[x])[: self.k]\n",
    "        \n",
    "        k_neighbor_labels = [self.y_train.T[i][0] for i in k_idx]\n",
    "       \n",
    "        most_common = Counter(k_neighbor_labels).most_common(1)\n",
    "        return most_common[0][0]\n",
    "    \n",
    "def accuracy(y_true, y_pred):\n",
    "    y_true = np.ravel(y_true.T)\n",
    "    accuracy = np.sum(y_true == y_pred) / len(y_true)\n",
    "    return accuracy"
   ]
  },
  {
   "cell_type": "code",
   "execution_count": null,
   "id": "f0de5e92-2a92-444c-8515-a21708f2eb28",
   "metadata": {},
   "outputs": [],
   "source": []
  }
 ],
 "metadata": {
  "kernelspec": {
   "display_name": "Python 3 (ipykernel)",
   "language": "python",
   "name": "python3"
  },
  "language_info": {
   "codemirror_mode": {
    "name": "ipython",
    "version": 3
   },
   "file_extension": ".py",
   "mimetype": "text/x-python",
   "name": "python",
   "nbconvert_exporter": "python",
   "pygments_lexer": "ipython3",
   "version": "3.9.7"
  }
 },
 "nbformat": 4,
 "nbformat_minor": 5
}
