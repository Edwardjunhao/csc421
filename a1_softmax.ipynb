{
 "cells": [
  {
   "cell_type": "code",
   "execution_count": 37,
   "id": "882ba3f6",
   "metadata": {},
   "outputs": [],
   "source": [
    "import pandas as pd\n",
    "import numpy as np\n",
    "import matplotlib.pyplot as plt\n",
    "%matplotlib inline\n",
    "import scipy.sparse\n",
    "\n",
    "import numpy as np\n",
    "import torch\n",
    "import torchvision\n",
    "from torch.utils.data import DataLoader\n",
    "from torchvision import datasets, transforms\n",
    "from torchvision.transforms import ToTensor, Compose\n",
    "import matplotlib.pyplot as plt\n",
    "import os\n",
    "import os\n",
    "import pickle"
   ]
  },
  {
   "cell_type": "code",
   "execution_count": 38,
   "id": "70d9f7df",
   "metadata": {},
   "outputs": [
    {
     "name": "stdout",
     "output_type": "stream",
     "text": [
      "Files already downloaded and verified\n",
      "Files already downloaded and verified\n"
     ]
    }
   ],
   "source": [
    "train_dataset = datasets.CIFAR10(root='data/', download=True, train=True, transform=ToTensor())\n",
    "test_dataset = datasets.CIFAR10(root='data/', download=True, train=False, transform=ToTensor())"
   ]
  },
  {
   "cell_type": "code",
   "execution_count": 39,
   "id": "24280a8f",
   "metadata": {},
   "outputs": [],
   "source": [
    "def load_CIFAR_batch(filename):\n",
    "    with open(filename, 'rb') as f:\n",
    "        datadict = pickle.load(f,encoding='latin1')\n",
    "        X = datadict['data']\n",
    "        Y = datadict['labels']\n",
    "        X = X.reshape(10000, 3, 32, 32).transpose(0,2,3,1).astype(\"float\")\n",
    "        Y = np.array(Y)\n",
    "    return X, Y\n",
    "def load_CIFAR10():\n",
    "    xs = []\n",
    "    ys = []\n",
    "    for b in range(1,6):\n",
    "        f = os.path.join('data', 'cifar-10-batches-py', 'data_batch_%d' % (b, ))\n",
    "        X, Y = load_CIFAR_batch(f)\n",
    "        xs.append(X)\n",
    "        ys.append(Y)    \n",
    "    Xtr = np.concatenate(xs)\n",
    "    Ytr = np.concatenate(ys)\n",
    "    del X, Y\n",
    "    Xte, Yte = load_CIFAR_batch(os.path.join('data', 'cifar-10-batches-py', 'test_batch'))\n",
    "    return Xtr, Ytr, Xte, Yte"
   ]
  },
  {
   "cell_type": "code",
   "execution_count": 78,
   "id": "00ced598",
   "metadata": {},
   "outputs": [],
   "source": [
    "X_train, y_train, X_test, y_test = load_CIFAR10()"
   ]
  },
  {
   "cell_type": "code",
   "execution_count": 79,
   "id": "80027973",
   "metadata": {},
   "outputs": [
    {
     "name": "stdout",
     "output_type": "stream",
     "text": [
      "(50000, 32, 32, 3)\n",
      "(50000,)\n",
      "(10000, 32, 32, 3)\n",
      "(10000,)\n"
     ]
    }
   ],
   "source": [
    "X_train = X_train[0:50000]\n",
    "y_train = y_train[0:50000]\n",
    "X_test = X_test[0:10000]\n",
    "y_test = y_test[0:10000]\n",
    "print(X_train.shape)\n",
    "print(y_train.shape)\n",
    "print(X_test.shape)\n",
    "print(y_test.shape)"
   ]
  },
  {
   "cell_type": "code",
   "execution_count": 80,
   "id": "fcd2b174",
   "metadata": {},
   "outputs": [
    {
     "name": "stdout",
     "output_type": "stream",
     "text": [
      "(50000, 3072)\n",
      "(50000,)\n",
      "(10000, 3072)\n",
      "(10000,)\n"
     ]
    }
   ],
   "source": [
    "X_train = X_train.reshape(50000,3072)\n",
    "X_test = X_test.reshape(10000,3072)\n",
    "print(X_train.shape)\n",
    "print(y_train.shape)\n",
    "print(X_test.shape)\n",
    "print(y_test.shape)"
   ]
  },
  {
   "cell_type": "code",
   "execution_count": 153,
   "id": "e07b1132",
   "metadata": {},
   "outputs": [],
   "source": [
    "class Softmax:\n",
    "    \n",
    "    def fit(self,X_train,y_train):\n",
    "        self.X_train = X_train\n",
    "        self.y_train = y_train\n",
    "    \n",
    "    def getLoss(self,w,x,y,lam):\n",
    "        m = x.shape[0] \n",
    "        y_mat = self.oneHot(y) \n",
    "        scores = np.dot(x,w) \n",
    "        prob = self.softmax(scores) \n",
    "        result = np.where(prob > 0.0000000001, prob, -10)\n",
    "        loss = (-1 / m) * np.sum(y_mat * np.log(result, out=result, where=result > 0)) + (lam/2)*np.sum(w*w) \n",
    "        grad = (-1 / m) * np.dot(x.T,(y_mat - prob)) + lam*w \n",
    "        return loss,grad\n",
    "    \n",
    "    def oneHot(self,Y):\n",
    "        m = Y.shape[0]\n",
    "\n",
    "        OHX = scipy.sparse.csr_matrix((np.ones(m), (Y, np.array(range(m)))))\n",
    "        OHX = np.array(OHX.todense()).T\n",
    "        return OHX\n",
    "    \n",
    "    def softmax(self,z):\n",
    "        z -= np.max(z)\n",
    "        sm = (np.exp(z).T / np.sum(np.exp(z),axis=1)).T\n",
    "        return sm\n",
    "\n",
    "    def predict(self,X_test):\n",
    "        prob = self.softmax(np.dot(X_test,self.w))\n",
    "        pred = np.argmax(prob,axis=1)\n",
    "        return prob,pred\n",
    "    \n",
    "    def Accuracy(self,X_test,Y_test):\n",
    "        prob,pred = self.predict(X_test)\n",
    "        accuracy = sum(pred == Y_test)/(float(len(Y_test)))\n",
    "        return accuracy\n",
    "    \n",
    "    def Train(self,w,lam,iters,lr):\n",
    "        self.w = w\n",
    "        self.lam = lam\n",
    "        self.iterations = iters\n",
    "        self.learningRate = lr\n",
    "        losses = []\n",
    "        for i in range(0,self.iterations):\n",
    "            loss,grad = self.getLoss(self.w,self.X_train,self.y_train,self.lam)\n",
    "            losses.append(loss)\n",
    "            \n",
    "            self.w = self.w - (self.learningRate * grad)\n",
    "        return losses"
   ]
  },
  {
   "cell_type": "code",
   "execution_count": 154,
   "id": "8720eec7",
   "metadata": {},
   "outputs": [],
   "source": [
    "clf = Softmax()"
   ]
  },
  {
   "cell_type": "code",
   "execution_count": 155,
   "id": "b9077e55",
   "metadata": {},
   "outputs": [],
   "source": [
    "clf.fit(X_train,y_train)"
   ]
  },
  {
   "cell_type": "code",
   "execution_count": 156,
   "id": "465f6345",
   "metadata": {},
   "outputs": [],
   "source": [
    "w = np.zeros([X_train.shape[1],len(np.unique(y_train))])\n",
    "losses = clf.Train(w,1,3000,0.00000036)\n",
    "a_axis = [i for i in range(1,3001)]"
   ]
  },
  {
   "cell_type": "code",
   "execution_count": 157,
   "id": "ffd0675a",
   "metadata": {},
   "outputs": [
    {
     "data": {
      "text/plain": [
       "0.4049"
      ]
     },
     "execution_count": 157,
     "metadata": {},
     "output_type": "execute_result"
    }
   ],
   "source": [
    "clf.Accuracy(X_test,y_test)"
   ]
  },
  {
   "cell_type": "code",
   "execution_count": 159,
   "id": "c530d7a9",
   "metadata": {},
   "outputs": [
    {
     "data": {
      "image/png": "[encoded data removed]",
      "text/plain": [
       "<Figure size 432x288 with 1 Axes>"
      ]
     },
     "metadata": {
      "needs_background": "light"
     },
     "output_type": "display_data"
    }
   ],
   "source": [
    "fig, ax = plt.subplots()\n",
    "ax.set_xlabel(\"n_iterations\")\n",
    "ax.set_ylabel(\"loss\")\n",
    "ax.set_title(\"loss vs number of iterations\")\n",
    "ax.plot(a_axis, losses, marker=\"o\", drawstyle=\"steps-post\")\n",
    "\n",
    "plt.show()"
   ]
  },
  {
   "cell_type": "code",
   "execution_count": null,
   "id": "7a5464a9",
   "metadata": {},
   "outputs": [],
   "source": []
  }
 ],
 "metadata": {
  "kernelspec": {
   "display_name": "Python 3 (ipykernel)",
   "language": "python",
   "name": "python3"
  },
  "language_info": {
   "codemirror_mode": {
    "name": "ipython",
    "version": 3
   },
   "file_extension": ".py",
   "mimetype": "text/x-python",
   "name": "python",
   "nbconvert_exporter": "python",
   "pygments_lexer": "ipython3",
   "version": "3.9.7"
  }
 },
 "nbformat": 4,
 "nbformat_minor": 5
}
